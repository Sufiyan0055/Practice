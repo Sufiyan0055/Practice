{
  "cells": [
    {
      "cell_type": "markdown",
      "metadata": {
        "id": "view-in-github",
        "colab_type": "text"
      },
      "source": [
        "<a href=\"https://colab.research.google.com/github/Sufiyan0055/Practice/blob/main/Copy_of_Welcome_to_Colaboratory.ipynb\" target=\"_parent\"><img src=\"https://colab.research.google.com/assets/colab-badge.svg\" alt=\"Open In Colab\"/></a>"
      ]
    },
    {
      "cell_type": "code",
      "source": [],
      "metadata": {
        "id": "uhTLDR7iU0M-"
      },
      "execution_count": null,
      "outputs": []
    },
    {
      "cell_type": "code",
      "source": [
        "# prompt: how to swap index in list\n",
        "\n",
        "# Example list\n",
        "my_list = [10, 20, 30, 40, 50]\n",
        "\n",
        "# Indices to swap\n",
        "index1 = 1\n",
        "index2 = 3\n",
        "\n",
        "# Swapping elements at index1 and index2\n",
        "my_list[index1], my_list[index2] = my_list[index2], my_list[index1]\n",
        "\n",
        "# Print the modified list\n",
        "print(my_list)  # Output: [10, 40, 30, 20, 50]\n"
      ],
      "metadata": {
        "id": "RJnvdw2_U5bP",
        "outputId": "85d8ed24-dbd2-45a8-ad68-ef29eaa162d0",
        "colab": {
          "base_uri": "https://localhost:8080/"
        }
      },
      "execution_count": null,
      "outputs": [
        {
          "output_type": "stream",
          "name": "stdout",
          "text": [
            "[10, 40, 30, 20, 50]\n"
          ]
        }
      ]
    },
    {
      "cell_type": "code",
      "source": [
        "a = [1,4,6,8,3,57,8,55]\n",
        "index1 = 0\n",
        "index2 = 3\n",
        "a[index1],a[index2] = a[index2],a[index1]\n",
        "print(a)"
      ],
      "metadata": {
        "id": "d_SeDUeaXX9l",
        "outputId": "53af5034-dc1f-4326-e197-9d72bc87d6ab",
        "colab": {
          "base_uri": "https://localhost:8080/"
        }
      },
      "execution_count": null,
      "outputs": [
        {
          "output_type": "stream",
          "name": "stdout",
          "text": [
            "[8, 4, 6, 1, 3, 57, 8, 55]\n"
          ]
        }
      ]
    },
    {
      "cell_type": "code",
      "source": [
        "# prompt: all list questions what i can do\n",
        "\n",
        "# 1. **Creating Lists:**\n",
        "#    - Empty list: `my_list = []`\n",
        "#    - List with elements: `my_list = [1, 2, 'hello', 3.14]`\n",
        "\n",
        "# 2. **Accessing Elements:**\n",
        "#    - Get element at index: `element = my_list[index]` (Remember, indexing starts from 0)\n",
        "#    - Negative indexing (access from end): `last_element = my_list[-1]`\n",
        "\n",
        "# 3. **Slicing:**\n",
        "#    - Get a sublist: `sublist = my_list[start_index:end_index]` (end_index is exclusive)\n",
        "#    - Slice from beginning: `sublist = my_list[:end_index]`\n",
        "#    - Slice to end: `sublist = my_list[start_index:]`\n",
        "#    - Every other element: `sublist = my_list[::2]`\n",
        "\n",
        "# 4. **Modifying Lists:**\n",
        "#    - Change element at index: `my_list[index] = new_value`\n",
        "#    - Append element to end: `my_list.append(new_element)`\n",
        "#    - Insert at specific index: `my_list.insert(index, new_element)`\n",
        "#    - Remove element by value: `my_list.remove(value)` (removes first occurrence)\n",
        "#    - Remove element by index: `del my_list[index]`\n",
        "#    - Pop (remove and return) last element: `last_element = my_list.pop()`\n",
        "#    - Pop element at index: `element = my_list.pop(index)`\n",
        "\n",
        "# 5. **List Operations:**\n",
        "#    - Concatenate lists: `new_list = list1 + list2`\n",
        "#    - Repeat list: `repeated_list = my_list * 3`\n",
        "#    - Check if element is in list: `if element in my_list:`\n",
        "#    - Get length of list: `length = len(my_list)`\n",
        "\n",
        "# 6. **Sorting and Reversing:**\n",
        "#    - Sort list in place: `my_list.sort()` (modifies original list)\n",
        "#    - Get sorted copy: `sorted_list = sorted(my_list)` (doesn't modify original)\n",
        "#    - Reverse list in place: `my_list.reverse()`\n",
        "\n",
        "# 7. **Other Useful Functions:**\n",
        "#    - Find index of element: `index = my_list.index(value)` (returns first occurrence)\n",
        "#    - Count occurrences of element: `count = my_list.count(value)`\n",
        "#    - Clear all elements: `my_list.clear()`\n",
        "\n",
        "# 8. **Iteration:**\n",
        "#    - Loop through elements:\n",
        "#"
      ],
      "metadata": {
        "id": "CYfZ3O-VY_Yb",
        "outputId": "aafad838-7eac-4523-d513-4303a9c3fdad",
        "colab": {
          "base_uri": "https://localhost:8080/",
          "height": 106
        }
      },
      "execution_count": null,
      "outputs": [
        {
          "output_type": "error",
          "ename": "SyntaxError",
          "evalue": "invalid syntax (<ipython-input-9-ea68cbf7e090>, line 1)",
          "traceback": [
            "\u001b[0;36m  File \u001b[0;32m\"<ipython-input-9-ea68cbf7e090>\"\u001b[0;36m, line \u001b[0;32m1\u001b[0m\n\u001b[0;31m    how to list append\u001b[0m\n\u001b[0m        ^\u001b[0m\n\u001b[0;31mSyntaxError\u001b[0m\u001b[0;31m:\u001b[0m invalid syntax\n"
          ]
        }
      ]
    },
    {
      "cell_type": "code",
      "source": [
        "sufiyan = ['Aman','Rahul','Ajay','Shyam','Pandit']\n",
        "index1 = 0\n",
        "index2 = -2\n",
        "sufiyan[index1],sufiyan[index2] = sufiyan[index2],sufiyan[index1]\n",
        "print(sufiyan)"
      ],
      "metadata": {
        "id": "6_J_fNNzbdCF",
        "outputId": "5170ad76-9a05-4146-db2d-190a1fc6cce2",
        "colab": {
          "base_uri": "https://localhost:8080/"
        }
      },
      "execution_count": null,
      "outputs": [
        {
          "output_type": "stream",
          "name": "stdout",
          "text": [
            "['Shyam', 'Rahul', 'Ajay', 'Aman', 'Pandit']\n"
          ]
        }
      ]
    },
    {
      "cell_type": "code",
      "source": [
        "sufiyan[::2]"
      ],
      "metadata": {
        "id": "mMOp3pG2dCDg",
        "outputId": "9dbdb2fc-f176-43dd-a7d4-a3fd4d47aa3b",
        "colab": {
          "base_uri": "https://localhost:8080/"
        }
      },
      "execution_count": null,
      "outputs": [
        {
          "output_type": "execute_result",
          "data": {
            "text/plain": [
              "['Shyam', 'Ajay', 'Pandit']"
            ]
          },
          "metadata": {},
          "execution_count": 5
        }
      ]
    },
    {
      "cell_type": "code",
      "source": [
        "sufiyan[0] = 'Ram'\n",
        "print(sufiyan)"
      ],
      "metadata": {
        "id": "p3BX-GG-G-Hw",
        "outputId": "b1af4c9d-4f2a-4b50-a2ba-9799c7589f95",
        "colab": {
          "base_uri": "https://localhost:8080/"
        }
      },
      "execution_count": null,
      "outputs": [
        {
          "output_type": "stream",
          "name": "stdout",
          "text": [
            "['Ram', 'Ajay', 'Aman', 'Pandit', 'Shyam', 'Shyam']\n"
          ]
        }
      ]
    },
    {
      "cell_type": "code",
      "source": [
        "sufiyan.append('Shyam')\n",
        "print(sufiyan)"
      ],
      "metadata": {
        "id": "jwnrdDMfG98z",
        "outputId": "a4824592-8c7f-4be2-aef0-e5d04243f31c",
        "colab": {
          "base_uri": "https://localhost:8080/"
        }
      },
      "execution_count": null,
      "outputs": [
        {
          "output_type": "stream",
          "name": "stdout",
          "text": [
            "['Ajay', 'Aman', 'Pandit', 'Shyam', 'Shyam']\n"
          ]
        }
      ]
    },
    {
      "cell_type": "code",
      "source": [
        "sufiyan.insert(0,'Rajeev')\n",
        "print(sufiyan)"
      ],
      "metadata": {
        "id": "JkkCvdS4HpKa",
        "outputId": "bdbd5fcc-8a5f-4a30-8779-30b4e5987807",
        "colab": {
          "base_uri": "https://localhost:8080/"
        }
      },
      "execution_count": null,
      "outputs": [
        {
          "output_type": "stream",
          "name": "stdout",
          "text": [
            "['Rajeev', 'Ram', 'Ajay', 'Aman', 'Pandit', 'Shyam', 'Shyam']\n"
          ]
        }
      ]
    },
    {
      "cell_type": "code",
      "source": [
        "sufiyan.remove('Ramm')\n",
        "print(sufiyan)"
      ],
      "metadata": {
        "id": "yTpV5EkoH69f",
        "outputId": "03bc4001-e5b5-40d5-8d97-bf6a00acef09",
        "colab": {
          "base_uri": "https://localhost:8080/"
        }
      },
      "execution_count": null,
      "outputs": [
        {
          "output_type": "stream",
          "name": "stdout",
          "text": [
            "['Rajeev', 'Ram', 'Rahul', 'Ajay', 'Aman', 'Pandit', 'Shyam']\n"
          ]
        }
      ]
    },
    {
      "cell_type": "code",
      "source": [
        "del sufiyan[0]\n",
        "print(sufiyan)"
      ],
      "metadata": {
        "id": "o9eJTMbqIQku",
        "outputId": "b35968ff-0b64-4163-c510-83c97735c142",
        "colab": {
          "base_uri": "https://localhost:8080/"
        }
      },
      "execution_count": null,
      "outputs": [
        {
          "output_type": "stream",
          "name": "stdout",
          "text": [
            "['Ajay', 'Aman', 'Pandit', 'Shyam']\n"
          ]
        }
      ]
    },
    {
      "cell_type": "code",
      "source": [
        "sufiyan.pop()\n",
        "print(sufiyan)"
      ],
      "metadata": {
        "id": "CneKwKR8KH9u",
        "outputId": "6428ed11-3202-414a-9965-054a79059dc2",
        "colab": {
          "base_uri": "https://localhost:8080/"
        }
      },
      "execution_count": null,
      "outputs": [
        {
          "output_type": "stream",
          "name": "stdout",
          "text": [
            "['Rajeev', 'Ram', 'Ajay', 'Aman', 'Pandit']\n"
          ]
        }
      ]
    },
    {
      "cell_type": "code",
      "source": [
        "sufiyan.pop(0)\n",
        "print(sufiyan)"
      ],
      "metadata": {
        "id": "y1DXt3V9NAws",
        "outputId": "293a0105-3b8a-4410-ba99-96580dedf5c9",
        "colab": {
          "base_uri": "https://localhost:8080/"
        }
      },
      "execution_count": null,
      "outputs": [
        {
          "output_type": "stream",
          "name": "stdout",
          "text": [
            "['Ram', 'Ajay', 'Aman', 'Pandit']\n"
          ]
        }
      ]
    },
    {
      "cell_type": "code",
      "source": [
        "ahmad = ['pandit','kumar','sharma','singh']\n",
        "print(ahmad)"
      ],
      "metadata": {
        "id": "MAambMnMOmOY",
        "outputId": "420a7d0d-e14b-46c6-f918-fa55550bbbf6",
        "colab": {
          "base_uri": "https://localhost:8080/"
        }
      },
      "execution_count": null,
      "outputs": [
        {
          "output_type": "stream",
          "name": "stdout",
          "text": [
            "['pandit', 'kumar', 'sharma', 'singh']\n"
          ]
        }
      ]
    },
    {
      "cell_type": "code",
      "source": [
        "sufiyan + ahmad\n",
        "print(ahmad*3)"
      ],
      "metadata": {
        "id": "9J3ikR5PPHvy",
        "outputId": "0f012edd-6e8b-426e-e78b-62b76b3f01f6",
        "colab": {
          "base_uri": "https://localhost:8080/"
        }
      },
      "execution_count": null,
      "outputs": [
        {
          "output_type": "stream",
          "name": "stdout",
          "text": [
            "['pandit', 'kumar', 'sharma', 'singh', 'pandit', 'kumar', 'sharma', 'singh', 'pandit', 'kumar', 'sharma', 'singh']\n"
          ]
        }
      ]
    },
    {
      "cell_type": "code",
      "source": [
        "sufiyan.sort()\n",
        "print(sufiyan)"
      ],
      "metadata": {
        "id": "-Y6w13y_VA8a",
        "outputId": "1fe76bf2-dd2c-483a-eeb8-f428cc0a89af",
        "colab": {
          "base_uri": "https://localhost:8080/"
        }
      },
      "execution_count": null,
      "outputs": [
        {
          "output_type": "stream",
          "name": "stdout",
          "text": [
            "['Ajay', 'Aman', 'Pandit', 'Ram']\n"
          ]
        }
      ]
    },
    {
      "cell_type": "code",
      "source": [
        "sufiyan.index('Ajay')"
      ],
      "metadata": {
        "id": "ryeYB0UCXLlG",
        "outputId": "24300f11-9659-4e58-a303-8c738c58f9d1",
        "colab": {
          "base_uri": "https://localhost:8080/"
        }
      },
      "execution_count": null,
      "outputs": [
        {
          "output_type": "execute_result",
          "data": {
            "text/plain": [
              "0"
            ]
          },
          "metadata": {},
          "execution_count": 45
        }
      ]
    },
    {
      "cell_type": "code",
      "source": [
        "sufiyan.index('Pandit')"
      ],
      "metadata": {
        "id": "IiGgSEGJYJT-",
        "outputId": "471f6089-5682-41ad-b3b0-38b9c628d65f",
        "colab": {
          "base_uri": "https://localhost:8080/"
        }
      },
      "execution_count": null,
      "outputs": [
        {
          "output_type": "execute_result",
          "data": {
            "text/plain": [
              "2"
            ]
          },
          "metadata": {},
          "execution_count": 46
        }
      ]
    },
    {
      "cell_type": "code",
      "source": [
        "sufiyan[2] = 'ram'"
      ],
      "metadata": {
        "id": "l9jDGn7iYe6r",
        "outputId": "56afc47b-5b69-411c-ca2d-1573a441570f",
        "colab": {
          "base_uri": "https://localhost:8080/"
        }
      },
      "execution_count": null,
      "outputs": [
        {
          "output_type": "stream",
          "name": "stdout",
          "text": [
            "['Ajay', 'Aman', 'Pandit', 'Ram']\n"
          ]
        }
      ]
    },
    {
      "cell_type": "markdown",
      "source": [
        "Append - add the element in the last of the list\n",
        "insert - it put the value with the index position (1,\"ram\")\n",
        "remove - it remove the element by its name (\"Ram\")\n",
        "delete - it remove the value but by index position (index value to mention)\n",
        "pop - it remove the last element if use .pop() , if we use pop(2) then remove index wise\n",
        "clear - it clear the whole list\n",
        "sorted - does not make changes in the original memory\n",
        "sort - make change in the original memory\n",
        "swapping  -  sufiyan = ['Aman','Rahul','Ajay','Shyam','Pandit']\n",
        "index1 = 0\n",
        "index2 = -2\n",
        "sufiyan[index1],sufiyan[index2] = sufiyan[index2],sufiyan[index1]\n",
        "print(sufiyan)"
      ],
      "metadata": {
        "id": "LpI11ZNZY-gm"
      }
    },
    {
      "cell_type": "code",
      "source": [
        "# prompt: all tuple questions\n",
        "\n",
        "# 1. Creating Tuples:\n",
        "#    - Empty tuple: `my_tuple = ()`\n",
        "#    - Tuple with elements: `my_tuple = (1, 2, 'hello', 3.14)`\n",
        "#    - Single element tuple: `my_tuple = (1,)` (Note the comma)\n",
        "\n",
        "# 2. Accessing Elements:\n",
        "#    - Get element at index: `element = my_tuple[index]` (Indexing starts from 0)\n",
        "#    - Negative indexing (access from end): `last_element = my_tuple[-1]`\n",
        "\n",
        "# 3. Slicing:\n",
        "#    - Get a subtuple: `subtuple = my_tuple[start_index:end_index]` (end_index is exclusive)\n",
        "#    - Slice from beginning: `subtuple = my_tuple[:end_index]`\n",
        "#    - Slice to end: `subtuple = my_tuple[start_index:]`\n",
        "#    - Every other element: `subtuple = my_tuple[::2]`\n",
        "\n",
        "# 4. Immutability:\n",
        "#    - Tuples cannot be modified after creation. You cannot change elements, add, or remove.\n",
        "\n",
        "# 5. Tuple Operations:\n",
        "#    - Concatenate tuples: `new_tuple = tuple1 + tuple2`\n",
        "#    - Repeat tuple: `repeated_tuple = my_tuple * 3`\n",
        "#    - Check if element is in tuple: `if element in my_tuple:`\n",
        "#    - Get length of tuple: `length = len(my_tuple)`\n",
        "\n",
        "# 6. Packing and Unpacking:\n",
        "#    - Packing: `my_tuple = 1, 2, 'hello'` (Parentheses are optional)\n",
        "#    - Unpacking: `x, y, z = my_tuple` (Assigns values to variables)\n",
        "\n",
        "# 7. Other Useful Functions:\n",
        "#    - Find index of element: `index = my_tuple.index(value)` (returns first occurrence)\n",
        "#    - Count occurrences of element: `count = my_tuple.count(value)`\n",
        "\n",
        "# Example:\n",
        "my_tuple = (10, 20, 30, 40, 50)\n",
        "print(my_tuple[1])  # Output: 20\n",
        "print(my_tuple[2:4])  # Output: (30, 40)\n",
        "\n",
        "x, y, *rest = my_tuple\n",
        "print(x)  # Output: 10\n",
        "print(y)  # Output: 20\n",
        "print(rest)  # Output: [30, 40, 50]\n"
      ],
      "metadata": {
        "id": "F873ZdHabtEb"
      },
      "execution_count": null,
      "outputs": []
    },
    {
      "cell_type": "code",
      "source": [
        "b =(1,2,3,4)\n",
        "print(b)"
      ],
      "metadata": {
        "id": "XvHaYmFfhKWq",
        "outputId": "3fa35b47-c56d-485e-bc04-4b638d88cfff",
        "colab": {
          "base_uri": "https://localhost:8080/"
        }
      },
      "execution_count": 1,
      "outputs": [
        {
          "output_type": "stream",
          "name": "stdout",
          "text": [
            "(1, 2, 3, 4)\n"
          ]
        }
      ]
    }
  ],
  "metadata": {
    "colab": {
      "provenance": [],
      "include_colab_link": true
    },
    "kernelspec": {
      "display_name": "Python 3",
      "name": "python3"
    }
  },
  "nbformat": 4,
  "nbformat_minor": 0
}